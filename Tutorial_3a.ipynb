{
  "nbformat": 4,
  "nbformat_minor": 0,
  "metadata": {
    "colab": {
      "provenance": [],
      "include_colab_link": true
    },
    "kernelspec": {
      "name": "python3",
      "display_name": "Python 3"
    }
  },
  "cells": [
    {
      "cell_type": "markdown",
      "metadata": {
        "id": "view-in-github",
        "colab_type": "text"
      },
      "source": [
        "<a href=\"https://colab.research.google.com/github/frizuma3/21013159_DataAnalytics/blob/main/Tutorial_3a.ipynb\" target=\"_parent\"><img src=\"https://colab.research.google.com/assets/colab-badge.svg\" alt=\"Open In Colab\"/></a>"
      ]
    },
    {
      "cell_type": "markdown",
      "metadata": {
        "id": "4w9sEQx-NFJv"
      },
      "source": [
        "In this tutorial we will train and test a linear regressor. This is something you have already done in part 3 of the course document. So, I will miss out all of the extra notes and just get to business."
      ]
    },
    {
      "cell_type": "code",
      "metadata": {
        "id": "2p-7cPGENClE"
      },
      "source": [
        "# needed to create the data frame\n",
        "import pandas as pd\n",
        "\n",
        "# needed to help with speedy maths based calculations\n",
        "import numpy as np\n",
        "\n",
        "# create data frame from csv file we hosted on our github\n",
        "df = pd.read_csv('https://raw.githubusercontent.com/1122131uhi/dataAnalytics/master/tutorial2lineardata.csv', index_col=0, )"
      ],
      "execution_count": null,
      "outputs": []
    },
    {
      "cell_type": "code",
      "metadata": {
        "id": "DEw-Y4JWNkh1",
        "outputId": "fb07b531-ed6a-40eb-9c6e-6e345eec0aaa",
        "colab": {
          "base_uri": "https://localhost:8080/"
        }
      },
      "source": [
        "# make sure we have our data by printing it out\n",
        "print(df[:6])\n",
        "# print(df) #all"
      ],
      "execution_count": null,
      "outputs": [
        {
          "output_type": "stream",
          "name": "stdout",
          "text": [
            "    day  temp  wdsp  NUM_TRIPS\n",
            "2     6  20.0   7.4   0.631126\n",
            "3     7  30.0  10.8   0.724951\n",
            "6     3  30.4   5.7   0.716044\n",
            "8     5  37.9  16.4   0.799994\n",
            "9     6  25.7  13.8   0.872611\n",
            "10    7  21.6   6.9   0.809792\n"
          ]
        }
      ]
    },
    {
      "cell_type": "code",
      "metadata": {
        "id": "vTMxwMfGPdWJ"
      },
      "source": [
        "# A scale is not required here, but the constant will be useful in the assignment.\n",
        "SCALE_NUM_TRIPS = 1.0"
      ],
      "execution_count": null,
      "outputs": []
    },
    {
      "cell_type": "code",
      "source": [
        "import tensorflow as tf\n",
        "\n",
        "from tensorflow import keras\n",
        "from tensorflow.keras import layers\n",
        "\n",
        "print(tf.__version__)"
      ],
      "metadata": {
        "id": "5DzJzm8VY1rG",
        "outputId": "ef23259d-f4c7-4d66-efe7-39f3892e3f32",
        "colab": {
          "base_uri": "https://localhost:8080/"
        }
      },
      "execution_count": null,
      "outputs": [
        {
          "output_type": "stream",
          "name": "stdout",
          "text": [
            "2.9.2\n"
          ]
        }
      ]
    },
    {
      "cell_type": "markdown",
      "source": [
        "# Day and NUM_TRIPS"
      ],
      "metadata": {
        "id": "JovHPmArsu9S"
      }
    },
    {
      "cell_type": "code",
      "source": [
        "# create a dataframe with the inputs and the output at the end using the imported dataframe. This can be replicated for any configuration, in this case, I have gone for day, temp, wdsp\n",
        "df_input_data_day = [df[\"day\"], df[\"NUM_TRIPS\"]]\n",
        "# create headers for our new dataframe. These should correlate with the above.\n",
        "df_input_headers_day = [\"day\", \"NUM_TRIPS\"]\n",
        "# create a final dataframe using our new dataframe and headers.\n",
        "df_input_day = pd.concat(df_input_data_day, axis=1, keys=df_input_headers_day)"
      ],
      "metadata": {
        "id": "FWRaDMLVs3mk"
      },
      "execution_count": null,
      "outputs": []
    },
    {
      "cell_type": "code",
      "source": [
        "# construct a training set for runnign through the model and a test set, we do this by using sample with 0.8 for an 80% training set and 20% for test.\n",
        "training_set_day = df_input_day.sample(frac=0.8, random_state=0)\n",
        "test_set_day = df_input_day.drop(training_set_day.index)"
      ],
      "metadata": {
        "id": "Ty0VniOOvFR0"
      },
      "execution_count": null,
      "outputs": []
    },
    {
      "cell_type": "code",
      "source": [
        "# copy the datasets and remove the final column, i.e. the output column. We do this using pop.\n",
        "training_features_day = training_set_day.copy()\n",
        "test_features_day = test_set_day.copy()\n",
        "\n",
        "training_labels_day = training_features_day.pop('NUM_TRIPS')\n",
        "test_labels_day = test_features_day.pop('NUM_TRIPS')"
      ],
      "metadata": {
        "id": "5ojr1YWGvOEj"
      },
      "execution_count": null,
      "outputs": []
    },
    {
      "cell_type": "code",
      "source": [
        "# Here I have put in a scale factor and divided by it. In this dataset, I had already normalised and thus it is 1. However, 600000 is what would make sense based on the data here and we can use this later when testing our model..\n",
        "training_labels_day = training_labels_day/SCALE_NUM_TRIPS\n",
        "test_labels_day = test_labels_day/SCALE_NUM_TRIPS"
      ],
      "metadata": {
        "id": "rxC88xHsvYTM"
      },
      "execution_count": null,
      "outputs": []
    },
    {
      "cell_type": "code",
      "source": [
        "print(training_features_day)"
      ],
      "metadata": {
        "id": "n_OkqLwdx6X4",
        "outputId": "049d0d82-c6ff-4541-b1cc-3ca0a6a8206d",
        "colab": {
          "base_uri": "https://localhost:8080/"
        }
      },
      "execution_count": null,
      "outputs": [
        {
          "output_type": "stream",
          "name": "stdout",
          "text": [
            "     day\n",
            "908    2\n",
            "805    4\n",
            "38     7\n",
            "712    2\n",
            "407    5\n",
            "..   ...\n",
            "507    7\n",
            "31     7\n",
            "119    4\n",
            "161    4\n",
            "164    7\n",
            "\n",
            "[794 rows x 1 columns]\n"
          ]
        }
      ]
    },
    {
      "cell_type": "code",
      "source": [
        "# boiler plate for this model. You can see that we have used the training_features here for our normalisation layer that we try and fit to the outputs.\n",
        "normaliser_day = tf.keras.layers.Normalization(input_shape=[1,], axis=None) # tf.keras.layers.Normalization(axis=-1)\n",
        "normaliser_day.adapt(np.array(training_features_day))"
      ],
      "metadata": {
        "id": "Qpi6HgPbveSv"
      },
      "execution_count": null,
      "outputs": []
    },
    {
      "cell_type": "code",
      "source": [
        "# I have decided to call the model, model_1. We add our normaliser and we are expecting a single output.\n",
        "model_0 = tf.keras.Sequential([\n",
        "    normaliser_day,\n",
        "    layers.Dense(units=1)\n",
        "])"
      ],
      "metadata": {
        "id": "y1-BThwAvhqH"
      },
      "execution_count": null,
      "outputs": []
    },
    {
      "cell_type": "code",
      "source": [
        "model_0.compile(\n",
        "    optimizer=tf.optimizers.Adam(learning_rate=0.1),\n",
        "    loss='mean_absolute_error')"
      ],
      "metadata": {
        "id": "ddgDNLTfvqOx"
      },
      "execution_count": null,
      "outputs": []
    },
    {
      "cell_type": "code",
      "source": [
        "# now we are going to fit the model where we require the training features and labels. We will run it 100 times i.e. epochs and we have applied a further 20% validation split.\n",
        "\n",
        "%%time\n",
        "history = model_0.fit(\n",
        "    training_features_day,\n",
        "    training_labels_day,\n",
        "    epochs=100,\n",
        "    verbose=0,\n",
        "    validation_split = 0.2)"
      ],
      "metadata": {
        "id": "CaJk8EUMvt5s",
        "outputId": "0e588953-566d-49a8-da74-b6e7aed4de05",
        "colab": {
          "base_uri": "https://localhost:8080/"
        }
      },
      "execution_count": null,
      "outputs": [
        {
          "output_type": "stream",
          "name": "stdout",
          "text": [
            "CPU times: user 6.15 s, sys: 326 ms, total: 6.48 s\n",
            "Wall time: 10.6 s\n"
          ]
        }
      ]
    },
    {
      "cell_type": "code",
      "source": [
        "# Now, we will evaluate our model using the test features and labels.\n",
        "mean_absolute_error_model_0 = model_0.evaluate(\n",
        "    test_features_day,\n",
        "    test_labels_day, verbose=0)"
      ],
      "metadata": {
        "id": "g_r2YIo8vzjS"
      },
      "execution_count": null,
      "outputs": []
    },
    {
      "cell_type": "code",
      "source": [
        "# The mean absolute error of the model can be printed out. Remember, we want to minimise this. Perhaps a model with just day and NUM_TRIPS would be better. It will also vary on each training run due to randomisation.\n",
        "print(mean_absolute_error_model_0)"
      ],
      "metadata": {
        "id": "ENe5nS8Qv5vq",
        "outputId": "b85b1456-0c55-4467-dfc7-8f87243ef406",
        "colab": {
          "base_uri": "https://localhost:8080/"
        }
      },
      "execution_count": null,
      "outputs": [
        {
          "output_type": "stream",
          "name": "stdout",
          "text": [
            "0.04291190579533577\n"
          ]
        }
      ]
    },
    {
      "cell_type": "markdown",
      "source": [
        "# Day, Temp, Windspeed, NUM_TRIPS\n"
      ],
      "metadata": {
        "id": "TS_y_-9uspzs"
      }
    },
    {
      "cell_type": "code",
      "source": [
        "# create a dataframe with the inputs and the output at the end using the imported dataframe. This can be replicated for any configuration, in this case, I have gone for day, temp, wdsp\n",
        "df_input_data = [df[\"day\"], df[\"temp\"], df[\"wdsp\"], df[\"NUM_TRIPS\"]]\n",
        "# create headers for our new dataframe. These should correlate with the above.\n",
        "df_input_headers = [\"day\", \"temp\", \"wdsp\", \"NUM_TRIPS\"]\n",
        "# create a final dataframe using our new dataframe and headers.\n",
        "df_input = pd.concat(df_input_data, axis=1, keys=df_input_headers)"
      ],
      "metadata": {
        "id": "WHuSnr6LdC3J"
      },
      "execution_count": null,
      "outputs": []
    },
    {
      "cell_type": "code",
      "source": [
        "# construct a training set for runnign through the model and a test set, we do this by using sample with 0.8 for an 80% training set and 20% for test.\n",
        "training_set = df_input.sample(frac=0.8, random_state=0)\n",
        "test_set = df_input.drop(training_set.index)"
      ],
      "metadata": {
        "id": "d5JtvdLBcruq"
      },
      "execution_count": null,
      "outputs": []
    },
    {
      "cell_type": "code",
      "source": [
        "# copy the datasets and remove the final column, i.e. the output column. We do this using pop.\n",
        "training_features = training_set.copy()\n",
        "test_features = test_set.copy()\n",
        "\n",
        "training_labels = training_features.pop('NUM_TRIPS')\n",
        "test_labels = test_features.pop('NUM_TRIPS')"
      ],
      "metadata": {
        "id": "EILvYoDid0wI"
      },
      "execution_count": null,
      "outputs": []
    },
    {
      "cell_type": "code",
      "source": [
        "# Here I have put in a scale factor and divided by it. In this dataset, I had already normalised and thus it is 1. However, 600000 is what would make sense based on the data here and we can use this later when testing our model..\n",
        "training_labels = training_labels/SCALE_NUM_TRIPS\n",
        "test_labels = test_labels/SCALE_NUM_TRIPS"
      ],
      "metadata": {
        "id": "3NBSa-Wyf2r6"
      },
      "execution_count": null,
      "outputs": []
    },
    {
      "cell_type": "code",
      "source": [
        "# boiler plate for this model. You can see that we have used the training_features here for our normalisation layer that we try and fit to the outputs.\n",
        "normaliser = tf.keras.layers.Normalization(axis=-1)\n",
        "normaliser.adapt(np.array(training_features))"
      ],
      "metadata": {
        "id": "VQuNfPpdf9al"
      },
      "execution_count": null,
      "outputs": []
    },
    {
      "cell_type": "code",
      "source": [
        "# I have decided to call the model, model_1. We add our normaliser and we are expecting a single output.\n",
        "model_1 = tf.keras.Sequential([\n",
        "    normaliser,\n",
        "    layers.Dense(units=1)\n",
        "])"
      ],
      "metadata": {
        "id": "JKiP5GIrgIJH"
      },
      "execution_count": null,
      "outputs": []
    },
    {
      "cell_type": "code",
      "source": [
        "# more boiler plate for creating a sequential model, we need an optimiser and loss parameter. Here we are going to be using the mean absolute error MAE\n",
        "model_1.compile(\n",
        "    optimizer=tf.optimizers.Adam(learning_rate=0.1),\n",
        "    loss='mean_absolute_error')"
      ],
      "metadata": {
        "id": "4odNLaUHgNb7"
      },
      "execution_count": null,
      "outputs": []
    },
    {
      "cell_type": "code",
      "source": [
        "# now we are going to fit the model where we require the training features and labels. We will run it 100 times i.e. epochs and we have applied a further 20% validation split.\n",
        "\n",
        "%%time\n",
        "history = model_1.fit(\n",
        "    training_features,\n",
        "    training_labels,\n",
        "    epochs=100,\n",
        "    verbose=0,\n",
        "    validation_split = 0.2)"
      ],
      "metadata": {
        "id": "rW1K3GxUgQyC",
        "outputId": "de9e598a-713b-4cc9-b17f-e44218dcdbc3",
        "colab": {
          "base_uri": "https://localhost:8080/"
        }
      },
      "execution_count": null,
      "outputs": [
        {
          "output_type": "stream",
          "name": "stdout",
          "text": [
            "CPU times: user 6.44 s, sys: 358 ms, total: 6.79 s\n",
            "Wall time: 6.59 s\n"
          ]
        }
      ]
    },
    {
      "cell_type": "code",
      "source": [
        "# Now, we will evaluate our model using the test features and labels.\n",
        "mean_absolute_error_model_1 = model_1.evaluate(\n",
        "    test_features,\n",
        "    test_labels, verbose=0)"
      ],
      "metadata": {
        "id": "ALdhLDb_gSjq"
      },
      "execution_count": null,
      "outputs": []
    },
    {
      "cell_type": "code",
      "source": [
        "# The mean absolute error of the model can be printed out. Remember, we want to minimise this. Perhaps a model with just day and NUM_TRIPS would be better. It will also vary on each training run due to randomisation.\n",
        "print(mean_absolute_error_model_1)"
      ],
      "metadata": {
        "id": "NVLVxc_aghcD",
        "outputId": "3a0b2053-e482-462f-8279-aa3642862a48",
        "colab": {
          "base_uri": "https://localhost:8080/"
        }
      },
      "execution_count": null,
      "outputs": [
        {
          "output_type": "stream",
          "name": "stdout",
          "text": [
            "0.0446719266474247\n"
          ]
        }
      ]
    },
    {
      "cell_type": "code",
      "source": [
        "# we create a custom dataframe with 3 values per feature.\n",
        "input_1 = pd.DataFrame.from_dict(data =\n",
        "\t\t\t\t{\n",
        "            'day' : [1,1,1],\n",
        "            'temp' : [61.8, 31.2, 77.0],\n",
        "            'wdsp' : [5.0, 3.0, 8.0]\n",
        "        })"
      ],
      "metadata": {
        "id": "hdG-BTFwhNT1"
      },
      "execution_count": null,
      "outputs": []
    },
    {
      "cell_type": "code",
      "source": [
        "input_1.head()"
      ],
      "metadata": {
        "id": "g91lv_a0uoSh",
        "outputId": "cbd26157-1f92-4fed-eed3-c166f239de2d",
        "colab": {
          "base_uri": "https://localhost:8080/",
          "height": 143
        }
      },
      "execution_count": null,
      "outputs": [
        {
          "output_type": "execute_result",
          "data": {
            "text/plain": [
              "   day  temp  wdsp\n",
              "0    1  61.8   5.0\n",
              "1    1  31.2   3.0\n",
              "2    1  77.0   8.0"
            ],
            "text/html": [
              "\n",
              "  <div id=\"df-1e0f19d6-fd93-4722-adfc-6372437f8f76\">\n",
              "    <div class=\"colab-df-container\">\n",
              "      <div>\n",
              "<style scoped>\n",
              "    .dataframe tbody tr th:only-of-type {\n",
              "        vertical-align: middle;\n",
              "    }\n",
              "\n",
              "    .dataframe tbody tr th {\n",
              "        vertical-align: top;\n",
              "    }\n",
              "\n",
              "    .dataframe thead th {\n",
              "        text-align: right;\n",
              "    }\n",
              "</style>\n",
              "<table border=\"1\" class=\"dataframe\">\n",
              "  <thead>\n",
              "    <tr style=\"text-align: right;\">\n",
              "      <th></th>\n",
              "      <th>day</th>\n",
              "      <th>temp</th>\n",
              "      <th>wdsp</th>\n",
              "    </tr>\n",
              "  </thead>\n",
              "  <tbody>\n",
              "    <tr>\n",
              "      <th>0</th>\n",
              "      <td>1</td>\n",
              "      <td>61.8</td>\n",
              "      <td>5.0</td>\n",
              "    </tr>\n",
              "    <tr>\n",
              "      <th>1</th>\n",
              "      <td>1</td>\n",
              "      <td>31.2</td>\n",
              "      <td>3.0</td>\n",
              "    </tr>\n",
              "    <tr>\n",
              "      <th>2</th>\n",
              "      <td>1</td>\n",
              "      <td>77.0</td>\n",
              "      <td>8.0</td>\n",
              "    </tr>\n",
              "  </tbody>\n",
              "</table>\n",
              "</div>\n",
              "      <button class=\"colab-df-convert\" onclick=\"convertToInteractive('df-1e0f19d6-fd93-4722-adfc-6372437f8f76')\"\n",
              "              title=\"Convert this dataframe to an interactive table.\"\n",
              "              style=\"display:none;\">\n",
              "        \n",
              "  <svg xmlns=\"http://www.w3.org/2000/svg\" height=\"24px\"viewBox=\"0 0 24 24\"\n",
              "       width=\"24px\">\n",
              "    <path d=\"M0 0h24v24H0V0z\" fill=\"none\"/>\n",
              "    <path d=\"M18.56 5.44l.94 2.06.94-2.06 2.06-.94-2.06-.94-.94-2.06-.94 2.06-2.06.94zm-11 1L8.5 8.5l.94-2.06 2.06-.94-2.06-.94L8.5 2.5l-.94 2.06-2.06.94zm10 10l.94 2.06.94-2.06 2.06-.94-2.06-.94-.94-2.06-.94 2.06-2.06.94z\"/><path d=\"M17.41 7.96l-1.37-1.37c-.4-.4-.92-.59-1.43-.59-.52 0-1.04.2-1.43.59L10.3 9.45l-7.72 7.72c-.78.78-.78 2.05 0 2.83L4 21.41c.39.39.9.59 1.41.59.51 0 1.02-.2 1.41-.59l7.78-7.78 2.81-2.81c.8-.78.8-2.07 0-2.86zM5.41 20L4 18.59l7.72-7.72 1.47 1.35L5.41 20z\"/>\n",
              "  </svg>\n",
              "      </button>\n",
              "      \n",
              "  <style>\n",
              "    .colab-df-container {\n",
              "      display:flex;\n",
              "      flex-wrap:wrap;\n",
              "      gap: 12px;\n",
              "    }\n",
              "\n",
              "    .colab-df-convert {\n",
              "      background-color: #E8F0FE;\n",
              "      border: none;\n",
              "      border-radius: 50%;\n",
              "      cursor: pointer;\n",
              "      display: none;\n",
              "      fill: #1967D2;\n",
              "      height: 32px;\n",
              "      padding: 0 0 0 0;\n",
              "      width: 32px;\n",
              "    }\n",
              "\n",
              "    .colab-df-convert:hover {\n",
              "      background-color: #E2EBFA;\n",
              "      box-shadow: 0px 1px 2px rgba(60, 64, 67, 0.3), 0px 1px 3px 1px rgba(60, 64, 67, 0.15);\n",
              "      fill: #174EA6;\n",
              "    }\n",
              "\n",
              "    [theme=dark] .colab-df-convert {\n",
              "      background-color: #3B4455;\n",
              "      fill: #D2E3FC;\n",
              "    }\n",
              "\n",
              "    [theme=dark] .colab-df-convert:hover {\n",
              "      background-color: #434B5C;\n",
              "      box-shadow: 0px 1px 3px 1px rgba(0, 0, 0, 0.15);\n",
              "      filter: drop-shadow(0px 1px 2px rgba(0, 0, 0, 0.3));\n",
              "      fill: #FFFFFF;\n",
              "    }\n",
              "  </style>\n",
              "\n",
              "      <script>\n",
              "        const buttonEl =\n",
              "          document.querySelector('#df-1e0f19d6-fd93-4722-adfc-6372437f8f76 button.colab-df-convert');\n",
              "        buttonEl.style.display =\n",
              "          google.colab.kernel.accessAllowed ? 'block' : 'none';\n",
              "\n",
              "        async function convertToInteractive(key) {\n",
              "          const element = document.querySelector('#df-1e0f19d6-fd93-4722-adfc-6372437f8f76');\n",
              "          const dataTable =\n",
              "            await google.colab.kernel.invokeFunction('convertToInteractive',\n",
              "                                                     [key], {});\n",
              "          if (!dataTable) return;\n",
              "\n",
              "          const docLinkHtml = 'Like what you see? Visit the ' +\n",
              "            '<a target=\"_blank\" href=https://colab.research.google.com/notebooks/data_table.ipynb>data table notebook</a>'\n",
              "            + ' to learn more about interactive tables.';\n",
              "          element.innerHTML = '';\n",
              "          dataTable['output_type'] = 'display_data';\n",
              "          await google.colab.output.renderOutput(dataTable, element);\n",
              "          const docLink = document.createElement('div');\n",
              "          docLink.innerHTML = docLinkHtml;\n",
              "          element.appendChild(docLink);\n",
              "        }\n",
              "      </script>\n",
              "    </div>\n",
              "  </div>\n",
              "  "
            ]
          },
          "metadata": {},
          "execution_count": 58
        }
      ]
    },
    {
      "cell_type": "code",
      "source": [
        "# next we can check this out, you can multiply by 600000 to get more realistic NUM_TRIPS values.\n",
        "linear_day_predictions_1 = model_1.predict(input_1[:3])*SCALE_NUM_TRIPS # essentially 600000 in this instance would give back realistic numbers based on the TAXI_TRIPS data\n",
        "print(linear_day_predictions_1)"
      ],
      "metadata": {
        "id": "bk96l6IfjA_1",
        "outputId": "c44a9df7-6f0e-4b15-a484-3fc867e5e67e",
        "colab": {
          "base_uri": "https://localhost:8080/"
        }
      },
      "execution_count": null,
      "outputs": [
        {
          "output_type": "stream",
          "name": "stdout",
          "text": [
            "1/1 [==============================] - 0s 66ms/step\n",
            "[[0.7631472 ]\n",
            " [0.8095628 ]\n",
            " [0.73539406]]\n"
          ]
        }
      ]
    },
    {
      "cell_type": "markdown",
      "source": [
        "From test inputs we have used, the first element in the array here is similar to this actual data:\n",
        "\n",
        "\"165\",1,62.4,5.6,0.668458757342322\n",
        "\n",
        "We can see that the temperature is slightly higher in the test data (which means less trips, but slightly higher wind means more trips. So, the difference between (actual) 0.668 and (predicted) 0.576 (rounded to 3 significant figures) seems reasonable.\n",
        "\n",
        "Similarly with the second:\n",
        "\n",
        "\"389\",1,26.6,3.1,0.763954173062719, which has higher number of trips due to a lower temperature and also with a slightly higher wind speed.\n",
        "\n",
        "And with the third:\n",
        "\n",
        "\"571\",1,77.2,8.4,0.724652060408235\n",
        "\n",
        "The last prediction with the higher temperature seems to punish the values more."
      ],
      "metadata": {
        "id": "MZNN3Pdbj1I8"
      }
    },
    {
      "cell_type": "code",
      "source": [
        "# same as above\n",
        "input_2 = pd.DataFrame.from_dict(data =\n",
        "\t\t\t\t{\n",
        "            'day' : [6,6,6],\n",
        "            'temp' : [61.8, 31.2, 77.0],\n",
        "            'wdsp' : [5.0, 3.0, 8.0]\n",
        "        })"
      ],
      "metadata": {
        "id": "1JBbhB3_kAZ0"
      },
      "execution_count": null,
      "outputs": []
    },
    {
      "cell_type": "code",
      "source": [
        "linear_day_predictions_2 = model_1.predict(input_2[:3])*SCALE_NUM_TRIPS # essentially 600000 in this instance would give back realistic numbers based on the TAXI_TRIPS data\n",
        "print(linear_day_predictions_2)"
      ],
      "metadata": {
        "id": "7wxV7TMMkJYn",
        "outputId": "e83489b7-fb07-4655-c469-b2f026018c01",
        "colab": {
          "base_uri": "https://localhost:8080/"
        }
      },
      "execution_count": null,
      "outputs": [
        {
          "output_type": "stream",
          "name": "stdout",
          "text": [
            "1/1 [==============================] - 0s 19ms/step\n",
            "[[0.87315536]\n",
            " [0.9195709 ]\n",
            " [0.84540224]]\n"
          ]
        }
      ]
    },
    {
      "cell_type": "markdown",
      "source": [
        "This test uses day 6 (Friday) instead of day 1 (Sunday) which shows higher number of trips. The other values were left the same."
      ],
      "metadata": {
        "id": "03hutuiGkR8-"
      }
    },
    {
      "cell_type": "markdown",
      "source": [
        "Things to think about for the assignment. Make a validation set i.e. 5% of the data (or maybe more). This should be used for this type of testing. My values are simply made up.\n",
        "\n",
        "You should also remember to use different models with different data. In this case, I would maybe take each input valuable separately and make a regression model for each, then different variations i.e. any 2.\n",
        "\n",
        "Remember, you need to write up your results in the assignment."
      ],
      "metadata": {
        "id": "0Mq41NEMkdqb"
      }
    }
  ]
}